{
 "cells": [
  {
   "cell_type": "code",
   "execution_count": 1,
   "metadata": {},
   "outputs": [
    {
     "data": {
      "text/plain": [
       "'数据预处理'"
      ]
     },
     "execution_count": 1,
     "metadata": {},
     "output_type": "execute_result"
    }
   ],
   "source": [
    "\"\"\"数据预处理\"\"\""
   ]
  },
  {
   "cell_type": "code",
   "execution_count": 2,
   "metadata": {},
   "outputs": [],
   "source": [
    "#载入需要的库\n",
    "#import tensorflow as tf\n",
    "import numpy as np\n",
    "import os\n",
    "import random\n",
    "import cv2"
   ]
  },
  {
   "cell_type": "markdown",
   "metadata": {},
   "source": [
    "数据准备\n",
    "读取train和test两个文件夹中的图片，并转化为模型能够加载的格式，并将train分割成train_data和val_data。最终转换的数据为train_X,train_y,val_X,val_y,test_X。"
   ]
  },
  {
   "cell_type": "code",
   "execution_count": 2,
   "metadata": {},
   "outputs": [],
   "source": [
    "def read_file(dir_path,random_state=True):\n",
    "    \"\"\"获取图片路径及其标签\n",
    "    ：param dir_path:a string,图片所在目录\n",
    "    ：param random_state:bool,是否乱序\n",
    "    ：return：\n",
    "    \"\"\"\n",
    "    img_list = []\n",
    "    label_list = []\n",
    "    \n",
    "    cat_num = 0\n",
    "    dog_num = 0\n",
    "    for filename in os.listdir(dir_path):\n",
    "        filename = dir_path + '/'+ filename\n",
    "        label = filename.split('.')[0]\n",
    "        \n",
    "        if os.path.isfile(filename):\n",
    "            img_list.append(filename)\n",
    "        else:\n",
    "            raise ValueError(\"文件夹中有非文件项\")\n",
    "        \n",
    "        if label == 'cat':\n",
    "            label_list.append(0)\n",
    "            cat_num += 1\n",
    "        else:\n",
    "            label_list.append(1)\n",
    "            dog_num += 1\n",
    "        print('数据集中有{}只猫，{}只狗'.format(cat_num,dog_num))\n",
    "        \n",
    "        #将数据转化为array\n",
    "        img_list = np.asarray(img_list)#路径\n",
    "        label_list = np.asarray(label_list)\n",
    "        \n",
    "        #打乱文件顺序\n",
    "        if random_state:\n",
    "            index_random = np.array(len(img_list))\n",
    "            np.random.shuffle(index_random)\n",
    "            img_list = img_list[index_random]\n",
    "            label_list = label_list[index_random]\n",
    "        \n",
    "        return img_list, label_list"
   ]
  },
  {
   "cell_type": "code",
   "execution_count": null,
   "metadata": {},
   "outputs": [],
   "source": [
    "dir_path = './dogs vs. cats/train'\n",
    "img_list,label_list = read_file(dir_path)"
   ]
  },
  {
   "cell_type": "code",
   "execution_count": 3,
   "metadata": {},
   "outputs": [
    {
     "ename": "NameError",
     "evalue": "name 'img_list' is not defined",
     "output_type": "error",
     "traceback": [
      "\u001b[1;31m---------------------------------------------------------------------------\u001b[0m",
      "\u001b[1;31mNameError\u001b[0m                                 Traceback (most recent call last)",
      "\u001b[1;32m<ipython-input-3-db617afb6466>\u001b[0m in \u001b[0;36m<module>\u001b[1;34m()\u001b[0m\n\u001b[1;32m----> 1\u001b[1;33m \u001b[1;32mdef\u001b[0m \u001b[0mrandom_sample\u001b[0m\u001b[1;33m(\u001b[0m\u001b[0mimages\u001b[0m\u001b[1;33m=\u001b[0m\u001b[0mimg_list\u001b[0m\u001b[1;33m,\u001b[0m\u001b[0mimages_category\u001b[0m\u001b[1;33m=\u001b[0m\u001b[0mlabel_list\u001b[0m\u001b[1;33m)\u001b[0m\u001b[1;33m:\u001b[0m\u001b[1;33m\u001b[0m\u001b[0m\n\u001b[0m\u001b[0;32m      2\u001b[0m     \u001b[0mprint\u001b[0m\u001b[1;33m(\u001b[0m\u001b[1;34m'随机选取一张图片：'\u001b[0m\u001b[1;33m)\u001b[0m\u001b[1;33m\u001b[0m\u001b[0m\n\u001b[0;32m      3\u001b[0m     \u001b[1;31m#从 images 和 images_name 随机读取一个图像文件路径以及该图像的类别\u001b[0m\u001b[1;33m\u001b[0m\u001b[1;33m\u001b[0m\u001b[0m\n\u001b[0;32m      4\u001b[0m     \u001b[0mindex_random\u001b[0m \u001b[1;33m=\u001b[0m \u001b[0mrandom\u001b[0m\u001b[1;33m.\u001b[0m\u001b[0mrandint\u001b[0m\u001b[1;33m(\u001b[0m\u001b[1;36m0\u001b[0m\u001b[1;33m,\u001b[0m\u001b[0mlen\u001b[0m\u001b[1;33m(\u001b[0m\u001b[0mimages\u001b[0m\u001b[1;33m)\u001b[0m\u001b[1;33m)\u001b[0m\u001b[1;33m\u001b[0m\u001b[0m\n\u001b[0;32m      5\u001b[0m     \u001b[0mim_file\u001b[0m\u001b[1;33m,\u001b[0m\u001b[0mim_name\u001b[0m\u001b[1;33m=\u001b[0m\u001b[0mimages\u001b[0m\u001b[1;33m[\u001b[0m\u001b[0mindex_random\u001b[0m\u001b[1;33m]\u001b[0m\u001b[1;33m,\u001b[0m\u001b[0mimages_category\u001b[0m\u001b[1;33m[\u001b[0m\u001b[0mindex_random\u001b[0m\u001b[1;33m]\u001b[0m\u001b[1;33m\u001b[0m\u001b[0m\n",
      "\u001b[1;31mNameError\u001b[0m: name 'img_list' is not defined"
     ]
    }
   ],
   "source": [
    "def random_sample(images=img_list,images_category=label_list):\n",
    "    print('随机选取一张图片：')\n",
    "    #从 images 和 images_name 随机读取一个图像文件路径以及该图像的类别\n",
    "    index_random = random.randint(0,len(images))\n",
    "    im_file,im_name=images[index_random],images_category[index_random]\n",
    "    #使用cv2.imread 读取图像文件\n",
    "    img = cv2.imread(im_file)\n",
    "    #使用plt.imshow 和plt.show()显示图像\n",
    "    plt.imshow()\n",
    "    print(im_name)\n",
    "    print(img.shape)\n",
    "    return im_file,im_name"
   ]
  },
  {
   "cell_type": "code",
   "execution_count": null,
   "metadata": {},
   "outputs": [],
   "source": [
    "#定义文件批次函数\n",
    "#因为一次性将所有25000张图片载入内存不现实也不必要，所以将图片分成不同批次进行训练。\n",
    "#这里传入的image和label参数就是函数get_files()返回的image_list和label_list，是python中的list类型，\n",
    "#所以需要将其转为TensorFlow可以识别的tensor格式。 \n",
    "def get_batch(train_list,img_size,batch_size,capacity,random_state=True):\n",
    "    \"\"\"\n",
    "    获取训练批次\n",
    "    :param train_list:2-D list,[img_list,label_list]\n",
    "    :param img_size:a int,训练批次大小\n",
    "    :param batch_size:a int，每个批次包含的样本数量\n",
    "    :param capacity:a int,队列容量\n",
    "    :param random_state:bool,是否乱序\n",
    "    \"\"\"\n",
    "    input_queue = tf.train.slice_input_producer(train_list,shuffle=False)\n",
    "    \n",
    "    #从路径中读取图片\n",
    "    image_train = tf.read_file(input_queue[0])\n",
    "    image_train = tf.image.decode_jpeg(image_train,channel=3)#将.jpg转化为.JPEG\n",
    "    image_train = tf.image.resize_images(image_train,[img_size,img_size])\n",
    "    image_train = tf.cast(image_train,tf.float32)/255 #转化数据类型并归一化\n",
    "    \n",
    "    #图片标签\n",
    "    label_list = input_queue[1]\n",
    "    \n",
    "    #获取批次\n",
    "    if random_state:\n",
    "        image_train_batch,label_train_batch = tf.train.shuffle([image_train,label_train],\n",
    "                                                              batch_size=batch_size,\n",
    "                                                              capacity = capacity,\n",
    "                                                              min_after_dequeue=100,\n",
    "                                                              num_threads=2)\n",
    "    else:\n",
    "        image_train_batch, label_train_batch = tf.train.batch([image_train, label_train],\n",
    "                                                              batch_size=1,\n",
    "                                                              capacity=capacity,\n",
    "                                                              num_threads=1)\n",
    "    return image_train_batch, label_train_batch"
   ]
  },
  {
   "cell_type": "code",
   "execution_count": null,
   "metadata": {},
   "outputs": [],
   "source": [
    "\"\"\"def load_dataset(data_dir = \"./dog vs.cats/train/\"):\n",
    "    data_x = []\n",
    "    data_y = label_list\n",
    "    \n",
    "    for img in img_list:\n",
    "        img = cv2.imread(img)\n",
    "        data_x.append(img)\n",
    "    return data_x,data_y\n",
    "train_x,train_y = load_dataset(\"./dog vs.cats/train/\")\n",
    "test_x,test_y = load_dataset(\"./dog vs.cats/test/\")\n",
    "\n",
    "train_X = np.asarray(train_x)[:10000]\n",
    "val_X = np.asarray(train_x)[10000:]\n",
    "train_Y = np.asarray(train_y)[:10000]\n",
    "val_Y = np.asarray(train_y)[10000:]\n",
    "test_X = np.asarray(test_x)\"\"\""
   ]
  }
 ],
 "metadata": {
  "kernelspec": {
   "display_name": "Python 3",
   "language": "python",
   "name": "python3"
  },
  "language_info": {
   "codemirror_mode": {
    "name": "ipython",
    "version": 3
   },
   "file_extension": ".py",
   "mimetype": "text/x-python",
   "name": "python",
   "nbconvert_exporter": "python",
   "pygments_lexer": "ipython3",
   "version": "3.7.0"
  }
 },
 "nbformat": 4,
 "nbformat_minor": 2
}
